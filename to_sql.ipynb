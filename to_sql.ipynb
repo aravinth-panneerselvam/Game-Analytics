{
 "cells": [
  {
   "cell_type": "code",
   "execution_count": 1,
   "metadata": {},
   "outputs": [],
   "source": [
    "import pandas as pd\n",
    "import pandas as pd\n",
    "from sqlalchemy import create_engine\n",
    "from sqlalchemy import text\n",
    "import sqlite3\n"
   ]
  },
  {
   "cell_type": "code",
   "execution_count": 2,
   "metadata": {},
   "outputs": [],
   "source": [
    "# Database Credentials\n",
    "user = \"postgres\"\n",
    "password = \"123456\"\n",
    "db_name = \"Tennis DB\"\n",
    "host = \"localhost\"\n"
   ]
  },
  {
   "cell_type": "code",
   "execution_count": 3,
   "metadata": {},
   "outputs": [],
   "source": [
    "# Defining Engine to Push data using SQLAlchemy\n",
    "sa_conn = f\"postgresql://{user}:{password}@{host}/{db_name}\"\n",
    "engine = create_engine(sa_conn)"
   ]
  },
  {
   "cell_type": "code",
   "execution_count": null,
   "metadata": {},
   "outputs": [],
   "source": [
    "file1 = \"category_ref.csv\"\n",
    "f1 = pd.read_csv(file1)\n",
    "# f1.columns.to_list() # Checking columns list\n",
    "f1.to_sql(\"category_table\", engine, if_exists = \"append\", index=False)"
   ]
  },
  {
   "cell_type": "code",
   "execution_count": 9,
   "metadata": {},
   "outputs": [],
   "source": [
    "# ALTERING CATEGORY_TABLE\n",
    "with engine.connect() as conn:\n",
    "    conn.execute(text(\"\"\"\n",
    "        ALTER TABLE CATEGORY_TABLE\n",
    "        ALTER COLUMN CATEGORY_ID TYPE VARCHAR(50),\n",
    "        ALTER COLUMN CATEGORY_NAME TYPE VARCHAR(100)\n",
    "        \"\"\"))\n",
    "    conn.commit()"
   ]
  },
  {
   "cell_type": "code",
   "execution_count": null,
   "metadata": {},
   "outputs": [],
   "source": [
    "with engine.connect() as conn:\n",
    "    conn.execute(text(\"\"\"\n",
    "        ALTER TABLE CATEGORY_TABLE\n",
    "        ADD CONSTRAINT CATEGORY_TB_PK PRIMARY KEY (CATEGORY_ID)\n",
    "        \"\"\"))\n",
    "    conn.commit()"
   ]
  },
  {
   "cell_type": "code",
   "execution_count": 23,
   "metadata": {},
   "outputs": [
    {
     "data": {
      "text/plain": [
       "905"
      ]
     },
     "execution_count": 23,
     "metadata": {},
     "output_type": "execute_result"
    }
   ],
   "source": [
    "# COMPETITION TABLE\n",
    "file2 = \"competition_df.csv\"\n",
    "f2 = pd.read_csv(file2)\n",
    "f2.to_sql(\"competition_table\", engine, if_exists=\"append\", index=False)"
   ]
  },
  {
   "cell_type": "code",
   "execution_count": 24,
   "metadata": {},
   "outputs": [],
   "source": [
    "with engine.begin() as conn:\n",
    "    conn.execute(text(\"ALTER TABLE COMPETITION_TABLE RENAME COLUMN ID TO COMPETITION_ID\"))\n",
    "    conn.execute(text(\"ALTER TABLE COMPETITION_TABLE RENAME COLUMN NAME TO COMPETITION_NAME\"))"
   ]
  },
  {
   "cell_type": "code",
   "execution_count": 4,
   "metadata": {},
   "outputs": [
    {
     "data": {
      "text/plain": [
       "1000"
      ]
     },
     "execution_count": 4,
     "metadata": {},
     "output_type": "execute_result"
    }
   ],
   "source": [
    "file3 = \"competitor_df.csv\"\n",
    "f3 = pd.read_csv(file3)\n",
    "f3.to_sql(\"competitor_table\", engine, if_exists=\"append\", index=False)"
   ]
  },
  {
   "cell_type": "code",
   "execution_count": 25,
   "metadata": {},
   "outputs": [],
   "source": [
    "with engine.begin() as conn:\n",
    "    conn.execute(text(\"ALTER TABLE COMPETITION_TABLE ALTER COLUMN COMPETITION_ID TYPE VARCHAR(50)\"))\n",
    "    conn.execute(text(\"ALTER TABLE COMPETITION_TABLE ALTER COLUMN COMPETITION_NAME TYPE VARCHAR(100)\"))\n",
    "    conn.execute(text(\"ALTER TABLE COMPETITION_TABLE ALTER COLUMN TYPE TYPE VARCHAR(20)\"))\n",
    "    conn.execute(text(\"ALTER TABLE COMPETITION_TABLE ALTER COLUMN GENDER TYPE VARCHAR(10)\"))\n",
    "    conn.execute(text(\"ALTER TABLE COMPETITION_TABLE ALTER COLUMN PARENT_ID TYPE VARCHAR(50)\"))"
   ]
  },
  {
   "cell_type": "code",
   "execution_count": 5,
   "metadata": {},
   "outputs": [],
   "source": [
    "with engine.begin() as conn:\n",
    "    conn.execute(text(\"ALTER TABLE COMPETITION_TABLE ADD CONSTRAINT COMP_TB_FK FOREIGN KEY (CATEGORY_ID) REFERENCES CATEGORY_TABLE(CATEGORY_ID)\"))\n"
   ]
  },
  {
   "cell_type": "code",
   "execution_count": null,
   "metadata": {},
   "outputs": [],
   "source": [
    "with engine.begin() as conn:\n",
    "    conn.execute(text(\"ALTER TABLE COMPETITION_TABLE ADD CONSTRAINT COMP_TB_FK FOREIGN KEY (CATEGORY_ID) REFERENCES CATEGORY_TABLE(CATEGORY_ID)\"))"
   ]
  },
  {
   "cell_type": "code",
   "execution_count": 6,
   "metadata": {},
   "outputs": [],
   "source": [
    "with engine.connect() as conn:\n",
    "    conn.execute(text(\"ALTER TABLE COMPETITION_TABLE ALTER COLUMN CATEGORY_ID SET DATA TYPE VARCHAR(50)\"))"
   ]
  },
  {
   "cell_type": "code",
   "execution_count": 7,
   "metadata": {},
   "outputs": [],
   "source": [
    "with engine.begin() as conn:\n",
    "    conn.execute(text(\"ALTER TABLE COMPETITION_TABLE ADD CONSTRAINT COMP_TB_PK PRIMARY KEY (COMPETITION_ID)\"))"
   ]
  },
  {
   "cell_type": "code",
   "execution_count": 4,
   "metadata": {},
   "outputs": [
    {
     "data": {
      "text/plain": [
       "1000"
      ]
     },
     "execution_count": 4,
     "metadata": {},
     "output_type": "execute_result"
    }
   ],
   "source": [
    "file4 = \"competitor_ranking_df.csv\"\n",
    "f4 = pd.read_csv(file4)\n",
    "f4.to_sql(\"competitor_ranking_table\", engine, if_exists=\"append\", index=False)"
   ]
  },
  {
   "cell_type": "code",
   "execution_count": 5,
   "metadata": {},
   "outputs": [
    {
     "data": {
      "text/plain": [
       "632"
      ]
     },
     "execution_count": 5,
     "metadata": {},
     "output_type": "execute_result"
    }
   ],
   "source": [
    "file5 = \"complexes_df.csv\"\n",
    "f5 = pd.read_csv(file5)\n",
    "f5.to_sql(\"complexes_table\", engine, if_exists=\"append\", index=False)"
   ]
  },
  {
   "cell_type": "code",
   "execution_count": 7,
   "metadata": {},
   "outputs": [
    {
     "data": {
      "text/plain": [
       "226"
      ]
     },
     "execution_count": 7,
     "metadata": {},
     "output_type": "execute_result"
    }
   ],
   "source": [
    "file6 = \"venue_df.csv\"\n",
    "f6 = pd.read_csv(file6)\n",
    "f6.to_sql(\"venue_table\", engine, if_exists=\"append\", index=False)"
   ]
  },
  {
   "cell_type": "code",
   "execution_count": 8,
   "metadata": {},
   "outputs": [
    {
     "data": {
      "text/plain": [
       "905"
      ]
     },
     "execution_count": 8,
     "metadata": {},
     "output_type": "execute_result"
    }
   ],
   "source": [
    "file7 = \"category_df.csv\"\n",
    "f7 = pd.read_csv(file7)\n",
    "f7.to_sql(\"category_og_table\", engine, if_exists=\"append\", index=False)"
   ]
  }
 ],
 "metadata": {
  "kernelspec": {
   "display_name": ".venv",
   "language": "python",
   "name": "python3"
  },
  "language_info": {
   "codemirror_mode": {
    "name": "ipython",
    "version": 3
   },
   "file_extension": ".py",
   "mimetype": "text/x-python",
   "name": "python",
   "nbconvert_exporter": "python",
   "pygments_lexer": "ipython3",
   "version": "3.11.4"
  }
 },
 "nbformat": 4,
 "nbformat_minor": 2
}
